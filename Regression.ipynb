{
  "nbformat": 4,
  "nbformat_minor": 0,
  "metadata": {
    "colab": {
      "provenance": []
    },
    "kernelspec": {
      "name": "python3",
      "display_name": "Python 3"
    },
    "language_info": {
      "name": "python"
    },
    "accelerator": "GPU",
    "gpuClass": "standard"
  },
  "cells": [
    {
      "cell_type": "markdown",
      "source": [
        "## Data Cleaning"
      ],
      "metadata": {
        "id": "ZrUD7Uuh74HI"
      }
    },
    {
      "cell_type": "code",
      "source": [
        "from sklearn.preprocessing import LabelEncoder, StandardScaler, MinMaxScaler\n",
        "from sklearn.metrics import r2_score, mean_squared_error\n",
        "from sklearn.model_selection import train_test_split\n",
        "import matplotlib.pyplot as plt\n",
        "import seaborn as sns\n",
        "import pandas as pd\n",
        "import numpy as np\n",
        "import os\n",
        "import re\n",
        "\n",
        "N = 17255904 #Cavin's N number for random seed"
      ],
      "metadata": {
        "id": "GNyDVKdEnKJN"
      },
      "execution_count": 1,
      "outputs": []
    },
    {
      "cell_type": "code",
      "execution_count": 2,
      "metadata": {
        "colab": {
          "base_uri": "https://localhost:8080/"
        },
        "id": "d4YZ6QwUmOBI",
        "outputId": "13d6dffd-61d1-4146-bcd9-11128f876aa1"
      },
      "outputs": [
        {
          "output_type": "stream",
          "name": "stdout",
          "text": [
            "/content\n",
            "Car_Predictor already Exists\n",
            "/content/Car_Predictor\n",
            "Already up to date.\n",
            "['Porsche_911.csv', 'Volkswagen_Beetle.csv', 'bmw_3_Series.csv', 'Nissan_Z.csv', 'Mercedes_Benz_SL.csv', 'Toyota_Landrover.csv']\n"
          ]
        }
      ],
      "source": [
        "from Data_cleaning import *\n",
        "\n",
        "columns=['Name', 'Features', 'Location', 'Price', \"Seller\", \"Auction_Type\", \"Date\"] \n",
        "data_files = os.listdir(\"Data\")\n",
        "data_files.remove('.DS_Store')\n",
        "data_path = \"Data/\"\n",
        "print(data_files)"
      ]
    },
    {
      "cell_type": "code",
      "source": [
        "df_file = data_path + \"Porsche_911.csv\"\n",
        "df = pd.read_csv(df_file, names=columns, header=None)\n",
        "\n",
        "print(\"Raw Data\")\n",
        "print(df.shape)\n",
        "data = clean_features(df)\n",
        "data = clean_date(data)\n",
        "data = clean_prices(data)\n",
        "data = clean_name(data)\n",
        "data = binarize_auctiontype(data)\n",
        "data = binarize_transmission(data)\n",
        "data = binarize_drive_side(data)\n",
        "data.head(50)\n",
        "print(data.isnull().sum())\n",
        "\n",
        "data = data[data['Location'].notna()]\n",
        "data = data[data['Price'].notna()]\n",
        "data = data[data['Seller'].notna()]\n",
        "data = data[data['Mileage'].notna()]\n",
        "data = data[data['Condition'].notna()]\n",
        "data = data[data['Date'].notna()]\n",
        "data = data[data['DriveSide'].notna()]\n",
        "data = data[data['Transmission_type'].notna()]\n",
        "data = data.drop(columns=['NameOfModel'])\n",
        "print(\"\\nPost Cleaning\")\n",
        "print(data.shape)\n",
        "print(data.isnull().sum())\n",
        "data = clean_location(data)\n",
        "data = data.drop(columns=['Date'])\n",
        "data = data[data[\"Price\"]<=200_000]"
      ],
      "metadata": {
        "colab": {
          "base_uri": "https://localhost:8080/"
        },
        "id": "t1viV2SBnhLb",
        "outputId": "27ba2001-7c55-40f4-bf3d-706cc620b0c5"
      },
      "execution_count": 3,
      "outputs": [
        {
          "output_type": "stream",
          "name": "stdout",
          "text": [
            "Raw Data\n",
            "(12725, 7)\n",
            "Location              220\n",
            "Price                 658\n",
            "Seller                  2\n",
            "Date                    2\n",
            "Mileage              2473\n",
            "Condition            5758\n",
            "NameOfModel             0\n",
            "YearOfManufacture       0\n",
            "Cabriolet               0\n",
            "Coupe                   0\n",
            "GT                      0\n",
            "AuctionType             2\n",
            "Transmission_type    1413\n",
            "DriveSide            4071\n",
            "dtype: int64\n",
            "\n",
            "Post Cleaning\n",
            "(5288, 13)\n",
            "Location             0\n",
            "Price                0\n",
            "Seller               0\n",
            "Date                 0\n",
            "Mileage              0\n",
            "Condition            0\n",
            "YearOfManufacture    0\n",
            "Cabriolet            0\n",
            "Coupe                0\n",
            "GT                   0\n",
            "AuctionType          0\n",
            "Transmission_type    0\n",
            "DriveSide            0\n",
            "dtype: int64\n"
          ]
        }
      ]
    },
    {
      "cell_type": "markdown",
      "source": [
        "## Feature Engineering"
      ],
      "metadata": {
        "id": "Ywu3WNlbbK0E"
      }
    },
    {
      "cell_type": "code",
      "source": [
        "target = \"Price\"\n",
        "data.head()"
      ],
      "metadata": {
        "id": "etKc-oqgbQ_w",
        "colab": {
          "base_uri": "https://localhost:8080/",
          "height": 206
        },
        "outputId": "b65e04d7-1845-4236-b5a6-d2f1f5873a18"
      },
      "execution_count": 4,
      "outputs": [
        {
          "output_type": "execute_result",
          "data": {
            "text/plain": [
              "         Price           Seller  Mileage                   Condition  \\\n",
              "5   195000.000  Bring a Trailer  58926.0           Restored-Original   \n",
              "6    70574.400  Collecting Cars  60063.0  Original & Highly Original   \n",
              "7    32639.152  Collecting Cars  53932.0  Original & Highly Original   \n",
              "9    62000.000  Bring a Trailer  92140.0  Original & Highly Original   \n",
              "10   29500.000      Cars & Bids  55191.0                    Modified   \n",
              "\n",
              "   YearOfManufacture  Cabriolet  Coupe  GT  AuctionType  Transmission_type  \\\n",
              "5               1974          0      1   0          1.0                1.0   \n",
              "6               2005          0      0   0          1.0                1.0   \n",
              "7               2002          0      0   0          1.0                1.0   \n",
              "9               1985          0      0   0          1.0                1.0   \n",
              "10              2002          0      1   0          1.0                1.0   \n",
              "\n",
              "    DriveSide Country  \n",
              "5         1.0     USA  \n",
              "6         0.0     GBR  \n",
              "7         0.0     GBR  \n",
              "9         1.0     USA  \n",
              "10        1.0     USA  "
            ],
            "text/html": [
              "\n",
              "  <div id=\"df-25f26e13-1810-496f-a740-f39fbebfafec\">\n",
              "    <div class=\"colab-df-container\">\n",
              "      <div>\n",
              "<style scoped>\n",
              "    .dataframe tbody tr th:only-of-type {\n",
              "        vertical-align: middle;\n",
              "    }\n",
              "\n",
              "    .dataframe tbody tr th {\n",
              "        vertical-align: top;\n",
              "    }\n",
              "\n",
              "    .dataframe thead th {\n",
              "        text-align: right;\n",
              "    }\n",
              "</style>\n",
              "<table border=\"1\" class=\"dataframe\">\n",
              "  <thead>\n",
              "    <tr style=\"text-align: right;\">\n",
              "      <th></th>\n",
              "      <th>Price</th>\n",
              "      <th>Seller</th>\n",
              "      <th>Mileage</th>\n",
              "      <th>Condition</th>\n",
              "      <th>YearOfManufacture</th>\n",
              "      <th>Cabriolet</th>\n",
              "      <th>Coupe</th>\n",
              "      <th>GT</th>\n",
              "      <th>AuctionType</th>\n",
              "      <th>Transmission_type</th>\n",
              "      <th>DriveSide</th>\n",
              "      <th>Country</th>\n",
              "    </tr>\n",
              "  </thead>\n",
              "  <tbody>\n",
              "    <tr>\n",
              "      <th>5</th>\n",
              "      <td>195000.000</td>\n",
              "      <td>Bring a Trailer</td>\n",
              "      <td>58926.0</td>\n",
              "      <td>Restored-Original</td>\n",
              "      <td>1974</td>\n",
              "      <td>0</td>\n",
              "      <td>1</td>\n",
              "      <td>0</td>\n",
              "      <td>1.0</td>\n",
              "      <td>1.0</td>\n",
              "      <td>1.0</td>\n",
              "      <td>USA</td>\n",
              "    </tr>\n",
              "    <tr>\n",
              "      <th>6</th>\n",
              "      <td>70574.400</td>\n",
              "      <td>Collecting Cars</td>\n",
              "      <td>60063.0</td>\n",
              "      <td>Original &amp; Highly Original</td>\n",
              "      <td>2005</td>\n",
              "      <td>0</td>\n",
              "      <td>0</td>\n",
              "      <td>0</td>\n",
              "      <td>1.0</td>\n",
              "      <td>1.0</td>\n",
              "      <td>0.0</td>\n",
              "      <td>GBR</td>\n",
              "    </tr>\n",
              "    <tr>\n",
              "      <th>7</th>\n",
              "      <td>32639.152</td>\n",
              "      <td>Collecting Cars</td>\n",
              "      <td>53932.0</td>\n",
              "      <td>Original &amp; Highly Original</td>\n",
              "      <td>2002</td>\n",
              "      <td>0</td>\n",
              "      <td>0</td>\n",
              "      <td>0</td>\n",
              "      <td>1.0</td>\n",
              "      <td>1.0</td>\n",
              "      <td>0.0</td>\n",
              "      <td>GBR</td>\n",
              "    </tr>\n",
              "    <tr>\n",
              "      <th>9</th>\n",
              "      <td>62000.000</td>\n",
              "      <td>Bring a Trailer</td>\n",
              "      <td>92140.0</td>\n",
              "      <td>Original &amp; Highly Original</td>\n",
              "      <td>1985</td>\n",
              "      <td>0</td>\n",
              "      <td>0</td>\n",
              "      <td>0</td>\n",
              "      <td>1.0</td>\n",
              "      <td>1.0</td>\n",
              "      <td>1.0</td>\n",
              "      <td>USA</td>\n",
              "    </tr>\n",
              "    <tr>\n",
              "      <th>10</th>\n",
              "      <td>29500.000</td>\n",
              "      <td>Cars &amp; Bids</td>\n",
              "      <td>55191.0</td>\n",
              "      <td>Modified</td>\n",
              "      <td>2002</td>\n",
              "      <td>0</td>\n",
              "      <td>1</td>\n",
              "      <td>0</td>\n",
              "      <td>1.0</td>\n",
              "      <td>1.0</td>\n",
              "      <td>1.0</td>\n",
              "      <td>USA</td>\n",
              "    </tr>\n",
              "  </tbody>\n",
              "</table>\n",
              "</div>\n",
              "      <button class=\"colab-df-convert\" onclick=\"convertToInteractive('df-25f26e13-1810-496f-a740-f39fbebfafec')\"\n",
              "              title=\"Convert this dataframe to an interactive table.\"\n",
              "              style=\"display:none;\">\n",
              "        \n",
              "  <svg xmlns=\"http://www.w3.org/2000/svg\" height=\"24px\"viewBox=\"0 0 24 24\"\n",
              "       width=\"24px\">\n",
              "    <path d=\"M0 0h24v24H0V0z\" fill=\"none\"/>\n",
              "    <path d=\"M18.56 5.44l.94 2.06.94-2.06 2.06-.94-2.06-.94-.94-2.06-.94 2.06-2.06.94zm-11 1L8.5 8.5l.94-2.06 2.06-.94-2.06-.94L8.5 2.5l-.94 2.06-2.06.94zm10 10l.94 2.06.94-2.06 2.06-.94-2.06-.94-.94-2.06-.94 2.06-2.06.94z\"/><path d=\"M17.41 7.96l-1.37-1.37c-.4-.4-.92-.59-1.43-.59-.52 0-1.04.2-1.43.59L10.3 9.45l-7.72 7.72c-.78.78-.78 2.05 0 2.83L4 21.41c.39.39.9.59 1.41.59.51 0 1.02-.2 1.41-.59l7.78-7.78 2.81-2.81c.8-.78.8-2.07 0-2.86zM5.41 20L4 18.59l7.72-7.72 1.47 1.35L5.41 20z\"/>\n",
              "  </svg>\n",
              "      </button>\n",
              "      \n",
              "  <style>\n",
              "    .colab-df-container {\n",
              "      display:flex;\n",
              "      flex-wrap:wrap;\n",
              "      gap: 12px;\n",
              "    }\n",
              "\n",
              "    .colab-df-convert {\n",
              "      background-color: #E8F0FE;\n",
              "      border: none;\n",
              "      border-radius: 50%;\n",
              "      cursor: pointer;\n",
              "      display: none;\n",
              "      fill: #1967D2;\n",
              "      height: 32px;\n",
              "      padding: 0 0 0 0;\n",
              "      width: 32px;\n",
              "    }\n",
              "\n",
              "    .colab-df-convert:hover {\n",
              "      background-color: #E2EBFA;\n",
              "      box-shadow: 0px 1px 2px rgba(60, 64, 67, 0.3), 0px 1px 3px 1px rgba(60, 64, 67, 0.15);\n",
              "      fill: #174EA6;\n",
              "    }\n",
              "\n",
              "    [theme=dark] .colab-df-convert {\n",
              "      background-color: #3B4455;\n",
              "      fill: #D2E3FC;\n",
              "    }\n",
              "\n",
              "    [theme=dark] .colab-df-convert:hover {\n",
              "      background-color: #434B5C;\n",
              "      box-shadow: 0px 1px 3px 1px rgba(0, 0, 0, 0.15);\n",
              "      filter: drop-shadow(0px 1px 2px rgba(0, 0, 0, 0.3));\n",
              "      fill: #FFFFFF;\n",
              "    }\n",
              "  </style>\n",
              "\n",
              "      <script>\n",
              "        const buttonEl =\n",
              "          document.querySelector('#df-25f26e13-1810-496f-a740-f39fbebfafec button.colab-df-convert');\n",
              "        buttonEl.style.display =\n",
              "          google.colab.kernel.accessAllowed ? 'block' : 'none';\n",
              "\n",
              "        async function convertToInteractive(key) {\n",
              "          const element = document.querySelector('#df-25f26e13-1810-496f-a740-f39fbebfafec');\n",
              "          const dataTable =\n",
              "            await google.colab.kernel.invokeFunction('convertToInteractive',\n",
              "                                                     [key], {});\n",
              "          if (!dataTable) return;\n",
              "\n",
              "          const docLinkHtml = 'Like what you see? Visit the ' +\n",
              "            '<a target=\"_blank\" href=https://colab.research.google.com/notebooks/data_table.ipynb>data table notebook</a>'\n",
              "            + ' to learn more about interactive tables.';\n",
              "          element.innerHTML = '';\n",
              "          dataTable['output_type'] = 'display_data';\n",
              "          await google.colab.output.renderOutput(dataTable, element);\n",
              "          const docLink = document.createElement('div');\n",
              "          docLink.innerHTML = docLinkHtml;\n",
              "          element.appendChild(docLink);\n",
              "        }\n",
              "      </script>\n",
              "    </div>\n",
              "  </div>\n",
              "  "
            ]
          },
          "metadata": {},
          "execution_count": 4
        }
      ]
    },
    {
      "cell_type": "code",
      "source": [
        "categorical_columns = [\"Country\", \"Condition\", \"Seller\"]\n",
        "data_copy = data.copy()\n",
        "for column in categorical_columns:\n",
        "    if column not in data_copy.columns:\n",
        "      continue\n",
        "    le = LabelEncoder()\n",
        "    data_copy[column] = le.fit_transform(data_copy[column].astype(str))\n",
        "data_copy.head(5)"
      ],
      "metadata": {
        "id": "4KIIBybJdJlr",
        "colab": {
          "base_uri": "https://localhost:8080/",
          "height": 206
        },
        "outputId": "a1c0ce21-6eac-49e6-d08c-c3dc0d0fcc4b"
      },
      "execution_count": 5,
      "outputs": [
        {
          "output_type": "execute_result",
          "data": {
            "text/plain": [
              "         Price  Seller  Mileage  Condition YearOfManufacture  Cabriolet  \\\n",
              "5   195000.000       7  58926.0          6              1974          0   \n",
              "6    70574.400      12  60063.0          1              2005          0   \n",
              "7    32639.152      12  53932.0          1              2002          0   \n",
              "9    62000.000       7  92140.0          1              1985          0   \n",
              "10   29500.000      10  55191.0          0              2002          0   \n",
              "\n",
              "    Coupe  GT  AuctionType  Transmission_type  DriveSide  Country  \n",
              "5       1   0          1.0                1.0        1.0       27  \n",
              "6       0   0          1.0                1.0        0.0       12  \n",
              "7       0   0          1.0                1.0        0.0       12  \n",
              "9       0   0          1.0                1.0        1.0       27  \n",
              "10      1   0          1.0                1.0        1.0       27  "
            ],
            "text/html": [
              "\n",
              "  <div id=\"df-1fd2be67-a908-4971-9a00-5b8c8f420eab\">\n",
              "    <div class=\"colab-df-container\">\n",
              "      <div>\n",
              "<style scoped>\n",
              "    .dataframe tbody tr th:only-of-type {\n",
              "        vertical-align: middle;\n",
              "    }\n",
              "\n",
              "    .dataframe tbody tr th {\n",
              "        vertical-align: top;\n",
              "    }\n",
              "\n",
              "    .dataframe thead th {\n",
              "        text-align: right;\n",
              "    }\n",
              "</style>\n",
              "<table border=\"1\" class=\"dataframe\">\n",
              "  <thead>\n",
              "    <tr style=\"text-align: right;\">\n",
              "      <th></th>\n",
              "      <th>Price</th>\n",
              "      <th>Seller</th>\n",
              "      <th>Mileage</th>\n",
              "      <th>Condition</th>\n",
              "      <th>YearOfManufacture</th>\n",
              "      <th>Cabriolet</th>\n",
              "      <th>Coupe</th>\n",
              "      <th>GT</th>\n",
              "      <th>AuctionType</th>\n",
              "      <th>Transmission_type</th>\n",
              "      <th>DriveSide</th>\n",
              "      <th>Country</th>\n",
              "    </tr>\n",
              "  </thead>\n",
              "  <tbody>\n",
              "    <tr>\n",
              "      <th>5</th>\n",
              "      <td>195000.000</td>\n",
              "      <td>7</td>\n",
              "      <td>58926.0</td>\n",
              "      <td>6</td>\n",
              "      <td>1974</td>\n",
              "      <td>0</td>\n",
              "      <td>1</td>\n",
              "      <td>0</td>\n",
              "      <td>1.0</td>\n",
              "      <td>1.0</td>\n",
              "      <td>1.0</td>\n",
              "      <td>27</td>\n",
              "    </tr>\n",
              "    <tr>\n",
              "      <th>6</th>\n",
              "      <td>70574.400</td>\n",
              "      <td>12</td>\n",
              "      <td>60063.0</td>\n",
              "      <td>1</td>\n",
              "      <td>2005</td>\n",
              "      <td>0</td>\n",
              "      <td>0</td>\n",
              "      <td>0</td>\n",
              "      <td>1.0</td>\n",
              "      <td>1.0</td>\n",
              "      <td>0.0</td>\n",
              "      <td>12</td>\n",
              "    </tr>\n",
              "    <tr>\n",
              "      <th>7</th>\n",
              "      <td>32639.152</td>\n",
              "      <td>12</td>\n",
              "      <td>53932.0</td>\n",
              "      <td>1</td>\n",
              "      <td>2002</td>\n",
              "      <td>0</td>\n",
              "      <td>0</td>\n",
              "      <td>0</td>\n",
              "      <td>1.0</td>\n",
              "      <td>1.0</td>\n",
              "      <td>0.0</td>\n",
              "      <td>12</td>\n",
              "    </tr>\n",
              "    <tr>\n",
              "      <th>9</th>\n",
              "      <td>62000.000</td>\n",
              "      <td>7</td>\n",
              "      <td>92140.0</td>\n",
              "      <td>1</td>\n",
              "      <td>1985</td>\n",
              "      <td>0</td>\n",
              "      <td>0</td>\n",
              "      <td>0</td>\n",
              "      <td>1.0</td>\n",
              "      <td>1.0</td>\n",
              "      <td>1.0</td>\n",
              "      <td>27</td>\n",
              "    </tr>\n",
              "    <tr>\n",
              "      <th>10</th>\n",
              "      <td>29500.000</td>\n",
              "      <td>10</td>\n",
              "      <td>55191.0</td>\n",
              "      <td>0</td>\n",
              "      <td>2002</td>\n",
              "      <td>0</td>\n",
              "      <td>1</td>\n",
              "      <td>0</td>\n",
              "      <td>1.0</td>\n",
              "      <td>1.0</td>\n",
              "      <td>1.0</td>\n",
              "      <td>27</td>\n",
              "    </tr>\n",
              "  </tbody>\n",
              "</table>\n",
              "</div>\n",
              "      <button class=\"colab-df-convert\" onclick=\"convertToInteractive('df-1fd2be67-a908-4971-9a00-5b8c8f420eab')\"\n",
              "              title=\"Convert this dataframe to an interactive table.\"\n",
              "              style=\"display:none;\">\n",
              "        \n",
              "  <svg xmlns=\"http://www.w3.org/2000/svg\" height=\"24px\"viewBox=\"0 0 24 24\"\n",
              "       width=\"24px\">\n",
              "    <path d=\"M0 0h24v24H0V0z\" fill=\"none\"/>\n",
              "    <path d=\"M18.56 5.44l.94 2.06.94-2.06 2.06-.94-2.06-.94-.94-2.06-.94 2.06-2.06.94zm-11 1L8.5 8.5l.94-2.06 2.06-.94-2.06-.94L8.5 2.5l-.94 2.06-2.06.94zm10 10l.94 2.06.94-2.06 2.06-.94-2.06-.94-.94-2.06-.94 2.06-2.06.94z\"/><path d=\"M17.41 7.96l-1.37-1.37c-.4-.4-.92-.59-1.43-.59-.52 0-1.04.2-1.43.59L10.3 9.45l-7.72 7.72c-.78.78-.78 2.05 0 2.83L4 21.41c.39.39.9.59 1.41.59.51 0 1.02-.2 1.41-.59l7.78-7.78 2.81-2.81c.8-.78.8-2.07 0-2.86zM5.41 20L4 18.59l7.72-7.72 1.47 1.35L5.41 20z\"/>\n",
              "  </svg>\n",
              "      </button>\n",
              "      \n",
              "  <style>\n",
              "    .colab-df-container {\n",
              "      display:flex;\n",
              "      flex-wrap:wrap;\n",
              "      gap: 12px;\n",
              "    }\n",
              "\n",
              "    .colab-df-convert {\n",
              "      background-color: #E8F0FE;\n",
              "      border: none;\n",
              "      border-radius: 50%;\n",
              "      cursor: pointer;\n",
              "      display: none;\n",
              "      fill: #1967D2;\n",
              "      height: 32px;\n",
              "      padding: 0 0 0 0;\n",
              "      width: 32px;\n",
              "    }\n",
              "\n",
              "    .colab-df-convert:hover {\n",
              "      background-color: #E2EBFA;\n",
              "      box-shadow: 0px 1px 2px rgba(60, 64, 67, 0.3), 0px 1px 3px 1px rgba(60, 64, 67, 0.15);\n",
              "      fill: #174EA6;\n",
              "    }\n",
              "\n",
              "    [theme=dark] .colab-df-convert {\n",
              "      background-color: #3B4455;\n",
              "      fill: #D2E3FC;\n",
              "    }\n",
              "\n",
              "    [theme=dark] .colab-df-convert:hover {\n",
              "      background-color: #434B5C;\n",
              "      box-shadow: 0px 1px 3px 1px rgba(0, 0, 0, 0.15);\n",
              "      filter: drop-shadow(0px 1px 2px rgba(0, 0, 0, 0.3));\n",
              "      fill: #FFFFFF;\n",
              "    }\n",
              "  </style>\n",
              "\n",
              "      <script>\n",
              "        const buttonEl =\n",
              "          document.querySelector('#df-1fd2be67-a908-4971-9a00-5b8c8f420eab button.colab-df-convert');\n",
              "        buttonEl.style.display =\n",
              "          google.colab.kernel.accessAllowed ? 'block' : 'none';\n",
              "\n",
              "        async function convertToInteractive(key) {\n",
              "          const element = document.querySelector('#df-1fd2be67-a908-4971-9a00-5b8c8f420eab');\n",
              "          const dataTable =\n",
              "            await google.colab.kernel.invokeFunction('convertToInteractive',\n",
              "                                                     [key], {});\n",
              "          if (!dataTable) return;\n",
              "\n",
              "          const docLinkHtml = 'Like what you see? Visit the ' +\n",
              "            '<a target=\"_blank\" href=https://colab.research.google.com/notebooks/data_table.ipynb>data table notebook</a>'\n",
              "            + ' to learn more about interactive tables.';\n",
              "          element.innerHTML = '';\n",
              "          dataTable['output_type'] = 'display_data';\n",
              "          await google.colab.output.renderOutput(dataTable, element);\n",
              "          const docLink = document.createElement('div');\n",
              "          docLink.innerHTML = docLinkHtml;\n",
              "          element.appendChild(docLink);\n",
              "        }\n",
              "      </script>\n",
              "    </div>\n",
              "  </div>\n",
              "  "
            ]
          },
          "metadata": {},
          "execution_count": 5
        }
      ]
    },
    {
      "cell_type": "code",
      "source": [
        "scaler = StandardScaler()\n",
        "scaler = MinMaxScaler()\n",
        "columns = list(data_copy.columns)\n",
        "columns.remove(target)\n",
        "scaler.fit(data_copy[columns])\n",
        "data_copy[columns] = scaler.transform(data_copy[columns])\n",
        "data_copy.head(5)"
      ],
      "metadata": {
        "colab": {
          "base_uri": "https://localhost:8080/",
          "height": 206
        },
        "id": "mhezZ39qolE4",
        "outputId": "6a75a36b-f61a-4aec-e98c-94eedc685755"
      },
      "execution_count": 6,
      "outputs": [
        {
          "output_type": "execute_result",
          "data": {
            "text/plain": [
              "         Price    Seller   Mileage  Condition  YearOfManufacture  Cabriolet  \\\n",
              "5   195000.000  0.233333  0.158054   0.857143           0.157895        0.0   \n",
              "6    70574.400  0.400000  0.161104   0.142857           0.701754        0.0   \n",
              "7    32639.152  0.400000  0.144657   0.142857           0.649123        0.0   \n",
              "9    62000.000  0.233333  0.247159   0.142857           0.350877        0.0   \n",
              "10   29500.000  0.333333  0.148034   0.000000           0.649123        0.0   \n",
              "\n",
              "    Coupe   GT  AuctionType  Transmission_type  DriveSide   Country  \n",
              "5     1.0  0.0          1.0                1.0        1.0  0.931034  \n",
              "6     0.0  0.0          1.0                1.0        0.0  0.413793  \n",
              "7     0.0  0.0          1.0                1.0        0.0  0.413793  \n",
              "9     0.0  0.0          1.0                1.0        1.0  0.931034  \n",
              "10    1.0  0.0          1.0                1.0        1.0  0.931034  "
            ],
            "text/html": [
              "\n",
              "  <div id=\"df-ad152574-7201-4546-b7e0-ef1b5aa2ec45\">\n",
              "    <div class=\"colab-df-container\">\n",
              "      <div>\n",
              "<style scoped>\n",
              "    .dataframe tbody tr th:only-of-type {\n",
              "        vertical-align: middle;\n",
              "    }\n",
              "\n",
              "    .dataframe tbody tr th {\n",
              "        vertical-align: top;\n",
              "    }\n",
              "\n",
              "    .dataframe thead th {\n",
              "        text-align: right;\n",
              "    }\n",
              "</style>\n",
              "<table border=\"1\" class=\"dataframe\">\n",
              "  <thead>\n",
              "    <tr style=\"text-align: right;\">\n",
              "      <th></th>\n",
              "      <th>Price</th>\n",
              "      <th>Seller</th>\n",
              "      <th>Mileage</th>\n",
              "      <th>Condition</th>\n",
              "      <th>YearOfManufacture</th>\n",
              "      <th>Cabriolet</th>\n",
              "      <th>Coupe</th>\n",
              "      <th>GT</th>\n",
              "      <th>AuctionType</th>\n",
              "      <th>Transmission_type</th>\n",
              "      <th>DriveSide</th>\n",
              "      <th>Country</th>\n",
              "    </tr>\n",
              "  </thead>\n",
              "  <tbody>\n",
              "    <tr>\n",
              "      <th>5</th>\n",
              "      <td>195000.000</td>\n",
              "      <td>0.233333</td>\n",
              "      <td>0.158054</td>\n",
              "      <td>0.857143</td>\n",
              "      <td>0.157895</td>\n",
              "      <td>0.0</td>\n",
              "      <td>1.0</td>\n",
              "      <td>0.0</td>\n",
              "      <td>1.0</td>\n",
              "      <td>1.0</td>\n",
              "      <td>1.0</td>\n",
              "      <td>0.931034</td>\n",
              "    </tr>\n",
              "    <tr>\n",
              "      <th>6</th>\n",
              "      <td>70574.400</td>\n",
              "      <td>0.400000</td>\n",
              "      <td>0.161104</td>\n",
              "      <td>0.142857</td>\n",
              "      <td>0.701754</td>\n",
              "      <td>0.0</td>\n",
              "      <td>0.0</td>\n",
              "      <td>0.0</td>\n",
              "      <td>1.0</td>\n",
              "      <td>1.0</td>\n",
              "      <td>0.0</td>\n",
              "      <td>0.413793</td>\n",
              "    </tr>\n",
              "    <tr>\n",
              "      <th>7</th>\n",
              "      <td>32639.152</td>\n",
              "      <td>0.400000</td>\n",
              "      <td>0.144657</td>\n",
              "      <td>0.142857</td>\n",
              "      <td>0.649123</td>\n",
              "      <td>0.0</td>\n",
              "      <td>0.0</td>\n",
              "      <td>0.0</td>\n",
              "      <td>1.0</td>\n",
              "      <td>1.0</td>\n",
              "      <td>0.0</td>\n",
              "      <td>0.413793</td>\n",
              "    </tr>\n",
              "    <tr>\n",
              "      <th>9</th>\n",
              "      <td>62000.000</td>\n",
              "      <td>0.233333</td>\n",
              "      <td>0.247159</td>\n",
              "      <td>0.142857</td>\n",
              "      <td>0.350877</td>\n",
              "      <td>0.0</td>\n",
              "      <td>0.0</td>\n",
              "      <td>0.0</td>\n",
              "      <td>1.0</td>\n",
              "      <td>1.0</td>\n",
              "      <td>1.0</td>\n",
              "      <td>0.931034</td>\n",
              "    </tr>\n",
              "    <tr>\n",
              "      <th>10</th>\n",
              "      <td>29500.000</td>\n",
              "      <td>0.333333</td>\n",
              "      <td>0.148034</td>\n",
              "      <td>0.000000</td>\n",
              "      <td>0.649123</td>\n",
              "      <td>0.0</td>\n",
              "      <td>1.0</td>\n",
              "      <td>0.0</td>\n",
              "      <td>1.0</td>\n",
              "      <td>1.0</td>\n",
              "      <td>1.0</td>\n",
              "      <td>0.931034</td>\n",
              "    </tr>\n",
              "  </tbody>\n",
              "</table>\n",
              "</div>\n",
              "      <button class=\"colab-df-convert\" onclick=\"convertToInteractive('df-ad152574-7201-4546-b7e0-ef1b5aa2ec45')\"\n",
              "              title=\"Convert this dataframe to an interactive table.\"\n",
              "              style=\"display:none;\">\n",
              "        \n",
              "  <svg xmlns=\"http://www.w3.org/2000/svg\" height=\"24px\"viewBox=\"0 0 24 24\"\n",
              "       width=\"24px\">\n",
              "    <path d=\"M0 0h24v24H0V0z\" fill=\"none\"/>\n",
              "    <path d=\"M18.56 5.44l.94 2.06.94-2.06 2.06-.94-2.06-.94-.94-2.06-.94 2.06-2.06.94zm-11 1L8.5 8.5l.94-2.06 2.06-.94-2.06-.94L8.5 2.5l-.94 2.06-2.06.94zm10 10l.94 2.06.94-2.06 2.06-.94-2.06-.94-.94-2.06-.94 2.06-2.06.94z\"/><path d=\"M17.41 7.96l-1.37-1.37c-.4-.4-.92-.59-1.43-.59-.52 0-1.04.2-1.43.59L10.3 9.45l-7.72 7.72c-.78.78-.78 2.05 0 2.83L4 21.41c.39.39.9.59 1.41.59.51 0 1.02-.2 1.41-.59l7.78-7.78 2.81-2.81c.8-.78.8-2.07 0-2.86zM5.41 20L4 18.59l7.72-7.72 1.47 1.35L5.41 20z\"/>\n",
              "  </svg>\n",
              "      </button>\n",
              "      \n",
              "  <style>\n",
              "    .colab-df-container {\n",
              "      display:flex;\n",
              "      flex-wrap:wrap;\n",
              "      gap: 12px;\n",
              "    }\n",
              "\n",
              "    .colab-df-convert {\n",
              "      background-color: #E8F0FE;\n",
              "      border: none;\n",
              "      border-radius: 50%;\n",
              "      cursor: pointer;\n",
              "      display: none;\n",
              "      fill: #1967D2;\n",
              "      height: 32px;\n",
              "      padding: 0 0 0 0;\n",
              "      width: 32px;\n",
              "    }\n",
              "\n",
              "    .colab-df-convert:hover {\n",
              "      background-color: #E2EBFA;\n",
              "      box-shadow: 0px 1px 2px rgba(60, 64, 67, 0.3), 0px 1px 3px 1px rgba(60, 64, 67, 0.15);\n",
              "      fill: #174EA6;\n",
              "    }\n",
              "\n",
              "    [theme=dark] .colab-df-convert {\n",
              "      background-color: #3B4455;\n",
              "      fill: #D2E3FC;\n",
              "    }\n",
              "\n",
              "    [theme=dark] .colab-df-convert:hover {\n",
              "      background-color: #434B5C;\n",
              "      box-shadow: 0px 1px 3px 1px rgba(0, 0, 0, 0.15);\n",
              "      filter: drop-shadow(0px 1px 2px rgba(0, 0, 0, 0.3));\n",
              "      fill: #FFFFFF;\n",
              "    }\n",
              "  </style>\n",
              "\n",
              "      <script>\n",
              "        const buttonEl =\n",
              "          document.querySelector('#df-ad152574-7201-4546-b7e0-ef1b5aa2ec45 button.colab-df-convert');\n",
              "        buttonEl.style.display =\n",
              "          google.colab.kernel.accessAllowed ? 'block' : 'none';\n",
              "\n",
              "        async function convertToInteractive(key) {\n",
              "          const element = document.querySelector('#df-ad152574-7201-4546-b7e0-ef1b5aa2ec45');\n",
              "          const dataTable =\n",
              "            await google.colab.kernel.invokeFunction('convertToInteractive',\n",
              "                                                     [key], {});\n",
              "          if (!dataTable) return;\n",
              "\n",
              "          const docLinkHtml = 'Like what you see? Visit the ' +\n",
              "            '<a target=\"_blank\" href=https://colab.research.google.com/notebooks/data_table.ipynb>data table notebook</a>'\n",
              "            + ' to learn more about interactive tables.';\n",
              "          element.innerHTML = '';\n",
              "          dataTable['output_type'] = 'display_data';\n",
              "          await google.colab.output.renderOutput(dataTable, element);\n",
              "          const docLink = document.createElement('div');\n",
              "          docLink.innerHTML = docLinkHtml;\n",
              "          element.appendChild(docLink);\n",
              "        }\n",
              "      </script>\n",
              "    </div>\n",
              "  </div>\n",
              "  "
            ]
          },
          "metadata": {},
          "execution_count": 6
        }
      ]
    },
    {
      "cell_type": "code",
      "source": [
        "plt.figure(figsize=(10,10))  \n",
        "sns.heatmap(data_copy.corr(), annot=True, fmt='.1f', linewidths=2, annot_kws={\"fontsize\":15}, vmin=-1, vmax=1, center= 0, cmap='coolwarm')"
      ],
      "metadata": {
        "colab": {
          "base_uri": "https://localhost:8080/",
          "height": 698
        },
        "id": "sW83ZnUZmd7z",
        "outputId": "faeaf513-d2f9-4b9c-863b-242fc1eb87c0"
      },
      "execution_count": 7,
      "outputs": [
        {
          "output_type": "execute_result",
          "data": {
            "text/plain": [
              "<matplotlib.axes._subplots.AxesSubplot at 0x7fd8904d1fd0>"
            ]
          },
          "metadata": {},
          "execution_count": 7
        },
        {
          "output_type": "display_data",
          "data": {
            "text/plain": [
              "<Figure size 720x720 with 2 Axes>"
            ],
            "image/png": "[encoded data removed]"
          },
          "metadata": {
            "needs_background": "light"
          }
        }
      ]
    },
    {
      "cell_type": "code",
      "source": [
        "data_copy = data_copy.drop([\"Country\", \"AuctionType\", \"Seller\", \"Transmission_type\"], axis=1) #  ,\"Cabriolet\", \"Coupe\""
      ],
      "metadata": {
        "id": "DXtvlkfwwnM-"
      },
      "execution_count": 8,
      "outputs": []
    },
    {
      "cell_type": "code",
      "source": [
        "features = data_copy.drop(target, axis=1)\n",
        "labels = data_copy[target]\n",
        "X_train, X_test, y_train, y_test = train_test_split(features, labels, test_size=0.2, random_state=N)\n",
        "y_test = np.around(y_test, -3)\n",
        "y_train = np.around(y_train, -3)\n",
        "\n",
        "print(\"Total :\", len(labels))\n",
        "print(\"Train :\", len(y_train))\n",
        "print(\"Test  :\", len(y_test))"
      ],
      "metadata": {
        "colab": {
          "base_uri": "https://localhost:8080/"
        },
        "id": "lK3Gbm1Y8K8I",
        "outputId": "58cae2fc-1ed8-4e4f-9040-203ecabb48a2"
      },
      "execution_count": 9,
      "outputs": [
        {
          "output_type": "stream",
          "name": "stdout",
          "text": [
            "Total : 4540\n",
            "Train : 3632\n",
            "Test  : 908\n"
          ]
        }
      ]
    },
    {
      "cell_type": "code",
      "source": [
        "for dataset in [y_train, y_test]:\n",
        "    print(round(len(dataset) / len(labels), 2))\n",
        "data_copy.isnull().sum()"
      ],
      "metadata": {
        "colab": {
          "base_uri": "https://localhost:8080/"
        },
        "id": "bjXoIrzy-mNd",
        "outputId": "f6fa9f56-04ea-40ec-894a-2e4212907848"
      },
      "execution_count": 10,
      "outputs": [
        {
          "output_type": "stream",
          "name": "stdout",
          "text": [
            "0.8\n",
            "0.2\n"
          ]
        },
        {
          "output_type": "execute_result",
          "data": {
            "text/plain": [
              "Price                0\n",
              "Mileage              0\n",
              "Condition            0\n",
              "YearOfManufacture    0\n",
              "Cabriolet            0\n",
              "Coupe                0\n",
              "GT                   0\n",
              "DriveSide            0\n",
              "dtype: int64"
            ]
          },
          "metadata": {},
          "execution_count": 10
        }
      ]
    },
    {
      "cell_type": "markdown",
      "source": [
        "## Regression"
      ],
      "metadata": {
        "id": "vSwWLvdC8GOf"
      }
    },
    {
      "cell_type": "code",
      "source": [
        "columns = list(data_copy.columns)\n",
        "columns.remove(target)\n",
        "def check_performance(regressor, X_train, y_train, X_test, y_test):\n",
        "    print(\"Train:\")\n",
        "    y_pred = regressor.predict(X_train)\n",
        "    y_pred = np.around(y_pred, -3)\n",
        "    # print(\"R2 Score :\", r2_score(y_true = y_train, y_pred = y_pred))\n",
        "    print(\"RMSE :\", mean_squared_error(y_train, y_pred, squared=False))\n",
        "\n",
        "    print(\"\\nTest:\")\n",
        "    y_pred = regressor.predict(X_test)\n",
        "    y_pred = np.around(y_pred, -3)\n",
        "    print(\"R2 Score :\", r2_score(y_true = y_test, y_pred = y_pred))\n",
        "    print(\"RMSE :\", mean_squared_error(y_test, y_pred, squared=False))"
      ],
      "metadata": {
        "id": "cYkA1_D2iIix"
      },
      "execution_count": 11,
      "outputs": []
    },
    {
      "cell_type": "code",
      "source": [
        "# from sklearn.linear_model import LinearRegression as base_model_type\n",
        "from sklearn.linear_model import Lasso as base_model_type\n",
        "\n",
        "regressor = base_model_type()\n",
        "regressor.fit(X_train, y_train)  \n",
        "\n",
        "check_performance(regressor, X_train, y_train, X_test, y_test)"
      ],
      "metadata": {
        "colab": {
          "base_uri": "https://localhost:8080/"
        },
        "id": "Ei0lTRPE8H_A",
        "outputId": "648905b0-26be-4e0b-a84b-1387a097dd71"
      },
      "execution_count": 12,
      "outputs": [
        {
          "output_type": "stream",
          "name": "stdout",
          "text": [
            "Train:\n",
            "RMSE : 34684.139566160986\n",
            "\n",
            "Test:\n",
            "R2 Score : 0.3885999146663901\n",
            "RMSE : 33211.543293402\n"
          ]
        }
      ]
    },
    {
      "cell_type": "code",
      "source": [
        "regressor.coef_\n",
        "plt.figure(figsize=(20,10))\n",
        "plt.bar(columns, list(regressor.coef_))"
      ],
      "metadata": {
        "colab": {
          "base_uri": "https://localhost:8080/",
          "height": 609
        },
        "id": "StHDpprI20Fi",
        "outputId": "429d59b6-fd3d-4432-8224-909e4699e568"
      },
      "execution_count": 13,
      "outputs": [
        {
          "output_type": "execute_result",
          "data": {
            "text/plain": [
              "<BarContainer object of 7 artists>"
            ]
          },
          "metadata": {},
          "execution_count": 13
        },
        {
          "output_type": "display_data",
          "data": {
            "text/plain": [
              "<Figure size 1440x720 with 1 Axes>"
            ],
            "image/png": "[encoded data removed]"
          },
          "metadata": {
            "needs_background": "light"
          }
        }
      ]
    },
    {
      "cell_type": "code",
      "source": [
        "from lightgbm import LGBMRegressor\n",
        "from sklearn.model_selection import GridSearchCV\n",
        "\n",
        "regressor = LGBMRegressor()\n",
        "regressor.fit(X_train, y_train)\n",
        "\n",
        "check_performance(regressor, X_train, y_train, X_test, y_test)\n",
        "print(\"\\nFeature Importances\")\n",
        "print(columns)\n",
        "print(list(regressor.feature_importances_))"
      ],
      "metadata": {
        "colab": {
          "base_uri": "https://localhost:8080/"
        },
        "id": "tuF-1kZzoWSH",
        "outputId": "048bfe5e-7171-4232-bc30-dfbdba907528"
      },
      "execution_count": 14,
      "outputs": [
        {
          "output_type": "stream",
          "name": "stdout",
          "text": [
            "Train:\n",
            "RMSE : 19857.726333953367\n",
            "\n",
            "Test:\n",
            "R2 Score : 0.700856973415158\n",
            "RMSE : 23230.884804728656\n",
            "\n",
            "Feature Importances\n",
            "['Mileage', 'Condition', 'YearOfManufacture', 'Cabriolet', 'Coupe', 'GT', 'DriveSide']\n",
            "[1303, 183, 1140, 83, 92, 95, 104]\n"
          ]
        }
      ]
    },
    {
      "cell_type": "code",
      "source": [
        "plt.figure(figsize=(20,10))\n",
        "plt.bar(columns, list(regressor.feature_importances_))"
      ],
      "metadata": {
        "colab": {
          "base_uri": "https://localhost:8080/",
          "height": 609
        },
        "id": "nSD6h36gze7A",
        "outputId": "6a2a2374-c897-44aa-fa6a-57e0ea5c4bc9"
      },
      "execution_count": 15,
      "outputs": [
        {
          "output_type": "execute_result",
          "data": {
            "text/plain": [
              "<BarContainer object of 7 artists>"
            ]
          },
          "metadata": {},
          "execution_count": 15
        },
        {
          "output_type": "display_data",
          "data": {
            "text/plain": [
              "<Figure size 1440x720 with 1 Axes>"
            ],
            "image/png": "[encoded data removed]"
          },
          "metadata": {
            "needs_background": "light"
          }
        }
      ]
    }
  ]
}